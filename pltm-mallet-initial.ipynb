{
 "cells": [
  {
   "cell_type": "code",
   "execution_count": 1,
   "metadata": {
    "collapsed": false
   },
   "outputs": [
    {
     "name": "stdout",
     "output_type": "stream",
     "text": [
      "Populating the interactive namespace from numpy and matplotlib\n"
     ]
    }
   ],
   "source": [
    "%pylab inline"
   ]
  },
  {
   "cell_type": "code",
   "execution_count": 33,
   "metadata": {
    "collapsed": false
   },
   "outputs": [],
   "source": [
    "from monolingual_lda_baseline import *"
   ]
  },
  {
   "cell_type": "code",
   "execution_count": 4,
   "metadata": {
    "collapsed": true
   },
   "outputs": [],
   "source": [
    "patient_dct = get_patient_dct()"
   ]
  },
  {
   "cell_type": "code",
   "execution_count": 11,
   "metadata": {
    "collapsed": false
   },
   "outputs": [
    {
     "data": {
      "text/plain": [
       "[u'\\u0410\\u0411', u'\\u0412\\u0413']"
      ]
     },
     "execution_count": 11,
     "metadata": {},
     "output_type": "execute_result"
    }
   ],
   "source": [
    "[u\"АБ\",u\"ВГ\"]"
   ]
  },
  {
   "cell_type": "code",
   "execution_count": 10,
   "metadata": {
    "collapsed": false
   },
   "outputs": [
    {
     "name": "stdout",
     "output_type": "stream",
     "text": [
      "[u'АБ', u'ВГ']\n"
     ]
    }
   ],
   "source": [
    "print repr([u\"АБ\",u\"ВГ\"]).decode('unicode_escape')"
   ]
  },
  {
   "cell_type": "code",
   "execution_count": 22,
   "metadata": {
    "collapsed": false
   },
   "outputs": [
    {
     "data": {
      "text/plain": [
       "('\\xe5\\xae\\x8b\\xe6\\x9f\\x90\\xe6\\x9f\\x90', '1955-04-27')"
      ]
     },
     "execution_count": 22,
     "metadata": {},
     "output_type": "execute_result"
    }
   ],
   "source": [
    "patient_dct.keys()[0]"
   ]
  },
  {
   "cell_type": "code",
   "execution_count": 20,
   "metadata": {
    "collapsed": false,
    "scrolled": true
   },
   "outputs": [
    {
     "name": "stdout",
     "output_type": "stream",
     "text": [
      "宋某某\n"
     ]
    }
   ],
   "source": [
    "print patient_dct.keys()[0][0]"
   ]
  },
  {
   "cell_type": "code",
   "execution_count": 25,
   "metadata": {
    "collapsed": false
   },
   "outputs": [
    {
     "name": "stdout",
     "output_type": "stream",
     "text": [
      "1955-04-27\n"
     ]
    }
   ],
   "source": [
    "print patient_dct.keys()[0][1]"
   ]
  },
  {
   "cell_type": "code",
   "execution_count": 32,
   "metadata": {
    "collapsed": false
   },
   "outputs": [
    {
     "name": "stdout",
     "output_type": "stream",
     "text": [
      "慢性胃炎\n"
     ]
    }
   ],
   "source": [
    "print patient_dct.values()[0].values()[0][0][0]"
   ]
  },
  {
   "cell_type": "code",
   "execution_count": 21,
   "metadata": {
    "collapsed": false
   },
   "outputs": [],
   "source": [
    "# [repr(i[0]).decode('unicode_escape') for i in patient_dct.keys() ]"
   ]
  },
  {
   "cell_type": "code",
   "execution_count": 24,
   "metadata": {
    "collapsed": false
   },
   "outputs": [
    {
     "name": "stdout",
     "output_type": "stream",
     "text": [
      "{datetime.datetime(2012, 11, 1, 0, 0): (['\\xe6\\x85\\xa2\\xe6\\x80\\xa7\\xe8\\x83\\x83\\xe7\\x82\\x8e'], ['\\xe5\\x81\\xb6\\xe6\\x81\\xb6\\xe5\\xbf\\x83', '\\xe8\\x83\\x83\\xe8\\x84\\x98\\xe7\\x95\\x8f\\xe5\\xaf\\x92', '\\xe7\\x83\\xa7\\xe5\\xbf\\x83', '\\xe5\\x8f\\xa3\\xe5\\xb9\\xb2\\xe5\\xa5\\xbd\\xe8\\xbd\\xac', '\\xe8\\x85\\xb9\\xe4\\xb8\\xad\\xe6\\xb0\\x94\\xe5\\xa4\\x9a', '\\xe7\\x9d\\xa1\\xe7\\x9c\\xa0\\xe5\\xa5\\xbd\\xe8\\xbd\\xac', '\\xe5\\xa4\\xa7\\xe4\\xbe\\xbf\\xe5\\x9f\\xba\\xe6\\x9c\\xac\\xe6\\x88\\x90\\xe5\\xbd\\xa2', '\\xe4\\xb8\\x8a\\xe8\\x85\\xb9\\xe8\\x83\\x80\\xe6\\xbb\\xa1', '\\xe7\\xa8\\x8d\\xe6\\x84\\x9f\\xe9\\x9a\\x90\\xe7\\x97\\x9b', '\\xe8\\x88\\x8c\\xe6\\x9a\\x97\\xe7\\xba\\xa2', '\\xe8\\x84\\x89\\xe6\\xb2\\x89\\xe7\\xbb\\x86'], ['\\xe8\\x9c\\x9c\\xe7\\x94\\x98\\xe8\\x8d\\x89', '\\xe6\\x9f\\xb4\\xe8\\x83\\xa1', '\\xe7\\x84\\xa6\\xe7\\xa5\\x9e\\xe6\\x9b\\xb2', '\\xe9\\xba\\xb8\\xe7\\x82\\x92\\xe7\\x99\\xbd\\xe6\\x9c\\xaf', '\\xe6\\x9e\\xb3\\xe5\\xae\\x9e', '\\xe6\\xb5\\xb7\\xe8\\x9e\\xb5\\xe8\\x9b\\xb8', '\\xe6\\x9e\\xb3\\xe5\\xa3\\xb3', '\\xe8\\x8c\\xaf\\xe8\\x8b\\x93', '\\xe6\\xb5\\x99\\xe8\\xb4\\x9d\\xe6\\xaf\\x8d', '\\xe7\\x82\\x92\\xe9\\xba\\xa6\\xe8\\x8a\\xbd', '\\xe5\\xb9\\xb2\\xe5\\xa7\\x9c', '\\xe9\\x99\\x88\\xe7\\x9a\\xae', '\\xe6\\xb3\\x95\\xe5\\x8d\\x8a\\xe5\\xa4\\x8f', '\\xe5\\xa4\\xa7\\xe8\\x85\\xb9\\xe7\\x9a\\xae', '\\xe9\\x83\\x81\\xe9\\x87\\x91', '\\xe6\\xa1\\x82\\xe6\\x9e\\x9d', '\\xe8\\x92\\xb2\\xe5\\x85\\xac\\xe8\\x8b\\xb1', '\\xe9\\x86\\x8b\\xe5\\xbb\\xb6\\xe8\\x83\\xa1\\xe7\\xb4\\xa2', '\\xe9\\x86\\x8b\\xe9\\xb8\\xa1\\xe5\\x86\\x85\\xe9\\x87\\x91', '\\xe5\\x8c\\x97\\xe6\\xb2\\x99\\xe5\\x8f\\x82', '\\xe7\\x82\\x92\\xe9\\x85\\xb8\\xe6\\x9e\\xa3\\xe4\\xbb\\x81', '\\xe8\\xb5\\xa4\\xe8\\x8a\\x8d', '\\xe5\\x90\\x88\\xe6\\xac\\xa2\\xe7\\x9a\\xae', '\\xe5\\x85\\x9a\\xe5\\x8f\\x82', '\\xe5\\xb7\\x9d\\xe6\\xa5\\x9d\\xe5\\xad\\x90']), datetime.datetime(2013, 3, 14, 0, 0): (['\\xe6\\x85\\xa2\\xe6\\x80\\xa7\\xe8\\x83\\x83\\xe7\\x82\\x8e'], ['\\xe5\\x8f\\xa3\\xe5\\xb9\\xb2', '\\xe8\\x83\\x83\\xe8\\x84\\x98\\xe7\\x95\\x8f\\xe5\\xaf\\x92', '\\xe7\\x83\\xa7\\xe5\\xbf\\x83', '\\xe4\\xbe\\xbf\\xe4\\xb8\\x8d\\xe5\\xb0\\xbd\\xe6\\x84\\x9f', '\\xe8\\x85\\xb9\\xe4\\xb8\\xad\\xe6\\xb0\\x94\\xe5\\xa4\\x9a', '\\xe8\\x8b\\x94\\xe9\\xbb\\x84', '\\xe8\\x85\\xb9\\xe6\\xb3\\xbb', '\\xe4\\xb8\\x8a\\xe8\\x85\\xb9\\xe8\\x83\\x80\\xe6\\xbb\\xa1', '\\xe7\\xa8\\x8d\\xe6\\x84\\x9f\\xe9\\x9a\\x90\\xe7\\x97\\x9b', '\\xe8\\x88\\x8c\\xe6\\x9a\\x97\\xe7\\xba\\xa2', '\\xe8\\x84\\x89\\xe6\\xb2\\x89\\xe7\\xbb\\x86'], ['\\xe8\\x9c\\x9c\\xe7\\x94\\x98\\xe8\\x8d\\x89', '\\xe7\\x99\\xbd\\xe8\\x8a\\xb1\\xe8\\x9b\\x87\\xe8\\x88\\x8c\\xe8\\x8d\\x89', '\\xe6\\x9f\\xb4\\xe8\\x83\\xa1', '\\xe9\\xba\\xb8\\xe7\\x82\\x92\\xe7\\x99\\xbd\\xe6\\x9c\\xaf', '\\xe7\\x86\\x9f\\xe5\\xa4\\xa7\\xe9\\xbb\\x84', '\\xe6\\x9e\\xb3\\xe5\\xae\\x9e', '\\xe6\\xb5\\xb7\\xe8\\x9e\\xb5\\xe8\\x9b\\xb8', '\\xe6\\x9e\\xb3\\xe5\\xa3\\xb3', '\\xe9\\xbb\\x84\\xe8\\x8a\\xa9', '\\xe6\\xb5\\x99\\xe8\\xb4\\x9d\\xe6\\xaf\\x8d', '\\xe8\\x8c\\xaf\\xe8\\x8b\\x93', '\\xe5\\xbd\\x93\\xe5\\xbd\\x92', '\\xe9\\x99\\x88\\xe7\\x9a\\xae', '\\xe6\\xb3\\x95\\xe5\\x8d\\x8a\\xe5\\xa4\\x8f', '\\xe5\\xa4\\xa7\\xe8\\x85\\xb9\\xe7\\x9a\\xae', '\\xe6\\xa1\\x82\\xe6\\x9e\\x9d', '\\xe7\\xab\\xb9\\xe8\\x8c\\xb9', '\\xe9\\x86\\x8b\\xe5\\xbb\\xb6\\xe8\\x83\\xa1\\xe7\\xb4\\xa2', '\\xe9\\x86\\x8b\\xe9\\xb8\\xa1\\xe5\\x86\\x85\\xe9\\x87\\x91', '\\xe8\\x9c\\x9c\\xe9\\xbb\\x84\\xe8\\x8a\\xaa', '\\xe5\\x8c\\x97\\xe6\\xb2\\x99\\xe5\\x8f\\x82', '\\xe9\\x98\\xb2\\xe9\\xa3\\x8e', '\\xe8\\xb5\\xa4\\xe8\\x8a\\x8d', '\\xe5\\x90\\x88\\xe6\\xac\\xa2\\xe7\\x9a\\xae', '\\xe5\\x85\\x9a\\xe5\\x8f\\x82', '\\xe5\\xb7\\x9d\\xe6\\xa5\\x9d\\xe5\\xad\\x90']), datetime.datetime(2013, 3, 21, 0, 0): (['\\xe6\\x85\\xa2\\xe6\\x80\\xa7\\xe8\\x83\\x83\\xe7\\x82\\x8e'], ['\\xe5\\x8f\\xa3\\xe5\\xb9\\xb2', '\\xe8\\x83\\x83\\xe8\\x84\\x98\\xe7\\x95\\x8f\\xe5\\xaf\\x92', '\\xe7\\x83\\xa7\\xe5\\xbf\\x83', '\\xe4\\xbe\\xbf\\xe4\\xb8\\x8d\\xe5\\xb0\\xbd\\xe6\\x84\\x9f', '\\xe8\\x85\\xb9\\xe4\\xb8\\xad\\xe6\\xb0\\x94\\xe7\\xaa\\x9c', '\\xe8\\x8b\\x94\\xe9\\xbb\\x84', '\\xe8\\x85\\xb9\\xe6\\xb3\\xbb', '\\xe4\\xb8\\x8a\\xe8\\x85\\xb9\\xe8\\x83\\x80\\xe6\\xbb\\xa1', '\\xe7\\xa8\\x8d\\xe6\\x84\\x9f\\xe9\\x9a\\x90\\xe7\\x97\\x9b', '\\xe8\\x88\\x8c\\xe6\\x9a\\x97\\xe7\\xba\\xa2', '\\xe6\\x84\\x9f\\xe5\\x86\\x92\\xe5\\xb7\\xb2\\xe6\\x84\\x88', '\\xe8\\x84\\x89\\xe6\\xb2\\x89\\xe7\\xbb\\x86'], ['\\xe8\\x9c\\x9c\\xe7\\x94\\x98\\xe8\\x8d\\x89', '\\xe7\\x99\\xbd\\xe8\\x8a\\xb1\\xe8\\x9b\\x87\\xe8\\x88\\x8c\\xe8\\x8d\\x89', '\\xe6\\xb5\\xb7\\xe8\\x9e\\xb5\\xe8\\x9b\\xb8', '\\xe9\\xba\\xb8\\xe7\\x82\\x92\\xe7\\x99\\xbd\\xe6\\x9c\\xaf', '\\xe6\\x9e\\xb3\\xe5\\xae\\x9e', '\\xe6\\x9f\\xb4\\xe8\\x83\\xa1', '\\xe6\\x9e\\xb3\\xe5\\xa3\\xb3', '\\xe9\\xbb\\x84\\xe8\\x8a\\xa9', '\\xe6\\xb5\\x99\\xe8\\xb4\\x9d\\xe6\\xaf\\x8d', '\\xe8\\x8c\\xaf\\xe8\\x8b\\x93', '\\xe5\\xb9\\xb2\\xe5\\xa7\\x9c', '\\xe5\\xbd\\x93\\xe5\\xbd\\x92', '\\xe9\\x99\\x88\\xe7\\x9a\\xae', '\\xe6\\xb3\\x95\\xe5\\x8d\\x8a\\xe5\\xa4\\x8f', '\\xe5\\xa4\\xa7\\xe8\\x85\\xb9\\xe7\\x9a\\xae', '\\xe6\\xa1\\x82\\xe6\\x9e\\x9d', '\\xe7\\xab\\xb9\\xe8\\x8c\\xb9', '\\xe9\\x86\\x8b\\xe5\\xbb\\xb6\\xe8\\x83\\xa1\\xe7\\xb4\\xa2', '\\xe8\\x9c\\x9c\\xe9\\xbb\\x84\\xe8\\x8a\\xaa', '\\xe5\\x8c\\x97\\xe6\\xb2\\x99\\xe5\\x8f\\x82', '\\xe9\\x98\\xb2\\xe9\\xa3\\x8e', '\\xe8\\xb5\\xa4\\xe8\\x8a\\x8d', '\\xe5\\x90\\x88\\xe6\\xac\\xa2\\xe7\\x9a\\xae', '\\xe5\\x85\\x9a\\xe5\\x8f\\x82', '\\xe5\\xb7\\x9d\\xe6\\xa5\\x9d\\xe5\\xad\\x90']), datetime.datetime(2013, 3, 28, 0, 0): (['\\xe6\\x85\\xa2\\xe6\\x80\\xa7\\xe8\\x83\\x83\\xe7\\x82\\x8e'], ['\\xe5\\x8f\\xa3\\xe5\\xb9\\xb2', '\\xe8\\x83\\x83\\xe8\\x84\\x98\\xe7\\x95\\x8f\\xe5\\xaf\\x92', '\\xe7\\x83\\xa7\\xe5\\xbf\\x83', '\\xe8\\x8b\\x94\\xe9\\xbb\\x84\\xe7\\x99\\xbd', '\\xe4\\xbe\\xbf\\xe4\\xb8\\x8d\\xe5\\xb0\\xbd\\xe6\\x84\\x9f', '\\xe5\\x97\\xb3\\xe6\\xb0\\x94', '\\xe8\\x83\\x83\\xe7\\x97\\x9b', '\\xe8\\x85\\xb9\\xe4\\xb8\\xad\\xe6\\xb0\\x94\\xe7\\xaa\\x9c', '\\xe8\\x85\\xb9\\xe6\\xb3\\xbb', '\\xe4\\xb8\\x8a\\xe8\\x85\\xb9\\xe8\\x83\\x80\\xe6\\xbb\\xa1', '\\xe8\\x88\\x8c\\xe6\\x9a\\x97\\xe7\\xba\\xa2', '\\xe8\\x84\\x89\\xe6\\xb2\\x89\\xe7\\xbb\\x86'], ['\\xe6\\xb5\\x99\\xe8\\xb4\\x9d\\xe6\\xaf\\x8d', '\\xe6\\xb3\\x95\\xe5\\x8d\\x8a\\xe5\\xa4\\x8f', '\\xe8\\x9c\\x9c\\xe7\\x94\\x98\\xe8\\x8d\\x89', '\\xe7\\x99\\xbd\\xe8\\x8a\\xb1\\xe8\\x9b\\x87\\xe8\\x88\\x8c\\xe8\\x8d\\x89', '\\xe6\\xa1\\x82\\xe6\\x9e\\x9d', '\\xe6\\x9f\\xb4\\xe8\\x83\\xa1', '\\xe7\\xab\\xb9\\xe8\\x8c\\xb9', '\\xe8\\x8c\\xaf\\xe8\\x8b\\x93', '\\xe9\\xba\\xb8\\xe7\\x82\\x92\\xe7\\x99\\xbd\\xe6\\x9c\\xaf', '\\xe6\\x9e\\xb3\\xe5\\xae\\x9e', '\\xe5\\xb9\\xb2\\xe5\\xa7\\x9c', '\\xe5\\xb7\\x9d\\xe6\\xa5\\x9d\\xe5\\xad\\x90', '\\xe9\\x86\\x8b\\xe5\\xbb\\xb6\\xe8\\x83\\xa1\\xe7\\xb4\\xa2', '\\xe5\\x85\\x9a\\xe5\\x8f\\x82', '\\xe6\\xb5\\xb7\\xe8\\x9e\\xb5\\xe8\\x9b\\xb8', '\\xe6\\x9e\\xb3\\xe5\\xa3\\xb3', '\\xe8\\xb5\\xa4\\xe8\\x8a\\x8d', '\\xe4\\xb8\\x89\\xe4\\xb8\\x83', '\\xe9\\x99\\x88\\xe7\\x9a\\xae']), datetime.datetime(2012, 10, 25, 0, 0): (['\\xe6\\x85\\xa2\\xe6\\x80\\xa7\\xe8\\x83\\x83\\xe7\\x82\\x8e'], ['\\xe8\\x8b\\x94\\xe7\\x99\\xbd\\xe8\\x85\\xbb', '\\xe6\\x8c\\x89\\xe4\\xb9\\x8b\\xe5\\x88\\x99\\xe7\\x97\\x9b', '\\xe8\\x83\\x83\\xe8\\x84\\x98\\xe7\\x95\\x8f\\xe5\\xaf\\x92', '\\xe7\\x83\\xa7\\xe5\\xbf\\x83', '\\xe5\\x81\\xb6\\xe6\\x81\\xb6\\xe5\\xbf\\x83', '\\xe7\\x9d\\xa1\\xe7\\x9c\\xa0\\xe6\\xac\\xa0\\xe4\\xbd\\xb3', '\\xe5\\x8f\\xa3\\xe5\\xb9\\xb2', '\\xe8\\x85\\xb9\\xe6\\xb3\\xbb', '\\xe4\\xb8\\x8a\\xe8\\x85\\xb9\\xe8\\x83\\x80\\xe6\\xbb\\xa1', '\\xe8\\x88\\x8c\\xe6\\x9a\\x97\\xe7\\xba\\xa2', '\\xe8\\x84\\x89\\xe6\\xb2\\x89\\xe7\\xbb\\x86'], ['\\xe6\\xb5\\x99\\xe8\\xb4\\x9d\\xe6\\xaf\\x8d', '\\xe6\\xb3\\x95\\xe5\\x8d\\x8a\\xe5\\xa4\\x8f', '\\xe5\\x8c\\x97\\xe6\\xb2\\x99\\xe5\\x8f\\x82', '\\xe6\\x9e\\xb3\\xe5\\xae\\x9e', '\\xe9\\xba\\xb8\\xe7\\x82\\x92\\xe7\\x99\\xbd\\xe6\\x9c\\xaf', '\\xe6\\xa1\\x82\\xe6\\x9e\\x9d', '\\xe6\\x9f\\xb4\\xe8\\x83\\xa1', '\\xe8\\x9c\\x9c\\xe7\\x94\\x98\\xe8\\x8d\\x89', '\\xe7\\x82\\x92\\xe9\\x85\\xb8\\xe6\\x9e\\xa3\\xe4\\xbb\\x81', '\\xe8\\xb5\\xa4\\xe8\\x8a\\x8d', '\\xe7\\x85\\x85\\xe7\\x93\\xa6\\xe6\\xa5\\x9e\\xe5\\xad\\x90', '\\xe5\\xb9\\xb2\\xe5\\xa7\\x9c', '\\xe5\\x90\\x88\\xe6\\xac\\xa2\\xe7\\x9a\\xae', '\\xe7\\xab\\xb9\\xe8\\x8c\\xb9', '\\xe9\\x86\\x8b\\xe5\\xbb\\xb6\\xe8\\x83\\xa1\\xe7\\xb4\\xa2', '\\xe5\\x85\\x9a\\xe5\\x8f\\x82', '\\xe6\\xb5\\xb7\\xe8\\x9e\\xb5\\xe8\\x9b\\xb8', '\\xe6\\x9e\\xb3\\xe5\\xa3\\xb3', '\\xe8\\x8c\\xaf\\xe8\\x8b\\x93', '\\xe5\\xb7\\x9d\\xe6\\xa5\\x9d\\xe5\\xad\\x90', '\\xe9\\x99\\x88\\xe7\\x9a\\xae']), datetime.datetime(2013, 4, 25, 0, 0): (['\\xe5\\x86\\xa0\\xe5\\xbf\\x83\\xe7\\x97\\x85', '\\xe6\\x85\\xa2\\xe6\\x80\\xa7\\xe8\\x83\\x83\\xe7\\x82\\x8e'], ['\\xe4\\xbe\\xbf\\xe4\\xb8\\x8d\\xe5\\xb0\\xbd\\xe6\\x84\\x9f', '\\xe7\\xa8\\x8d\\xe6\\x84\\x9f\\xe5\\x8f\\xa3\\xe5\\xb9\\xb2', '\\xe7\\x83\\xa7\\xe5\\xbf\\x83', '\\xe4\\xb8\\x8d\\xe8\\x83\\xbd\\xe8\\xbf\\x9b\\xe9\\xa3\\x9f\\xe7\\x94\\x9f\\xe5\\x86\\xb7', '\\xe8\\x88\\x8c\\xe6\\x9a\\x97\\xe7\\xba\\xa2', '\\xe5\\x97\\xb3\\xe6\\xb0\\x94', '\\xe8\\x85\\xb9\\xe4\\xb8\\xad\\xe6\\xb0\\x94\\xe7\\xaa\\x9c', '\\xe8\\x8b\\x94\\xe9\\xbb\\x84\\xe8\\x85\\xbb', '\\xe8\\x85\\xb9\\xe6\\xb3\\xbb', '\\xe4\\xb8\\x8a\\xe8\\x85\\xb9\\xe8\\x83\\x80\\xe6\\xbb\\xa1', '\\xe5\\x92\\xbd\\xe4\\xb8\\xad\\xe6\\x9c\\x89\\xe7\\x97\\xb0', '\\xe8\\x84\\x89\\xe5\\xbc\\xa6'], ['\\xe7\\x84\\xa6\\xe5\\xb1\\xb1\\xe6\\xa5\\x82', '\\xe7\\x8e\\xab\\xe7\\x91\\xb0\\xe8\\x8a\\xb1', '\\xe7\\x82\\x92\\xe7\\x89\\x9b\\xe8\\x92\\xa1\\xe5\\xad\\x90', '\\xe9\\x9d\\x92\\xe6\\x9e\\x9c']), datetime.datetime(2012, 11, 29, 0, 0): (['\\xe6\\x85\\xa2\\xe6\\x80\\xa7\\xe8\\x83\\x83\\xe7\\x82\\x8e'], ['\\xe5\\x81\\xb6\\xe6\\x81\\xb6\\xe5\\xbf\\x83', '\\xe8\\x8b\\x94\\xe8\\x96\\x84\\xe9\\xbb\\x84', '\\xe8\\x83\\x83\\xe8\\x84\\x98\\xe7\\x95\\x8f\\xe5\\xaf\\x92', '\\xe7\\x83\\xa7\\xe5\\xbf\\x83', '\\xe5\\xa4\\xa7\\xe4\\xbe\\xbf\\xe6\\x9c\\x89\\xe6\\x97\\xb6\\xe4\\xb8\\x8d\\xe6\\x88\\x90\\xe5\\xbd\\xa2', '\\xe5\\x8f\\xa3\\xe5\\xb9\\xb2\\xe5\\xa5\\xbd\\xe8\\xbd\\xac', '\\xe8\\x85\\xb9\\xe4\\xb8\\xad\\xe6\\xb0\\x94\\xe5\\xa4\\x9a', '\\xe7\\x9d\\xa1\\xe7\\x9c\\xa0\\xe5\\xa5\\xbd\\xe8\\xbd\\xac', '\\xe4\\xb8\\x8a\\xe8\\x85\\xb9\\xe8\\x83\\x80\\xe6\\xbb\\xa1', '\\xe7\\xa8\\x8d\\xe6\\x84\\x9f\\xe9\\x9a\\x90\\xe7\\x97\\x9b', '\\xe8\\x84\\x89\\xe6\\xb2\\x89\\xe7\\xbb\\x86'], ['\\xe8\\x9c\\x9c\\xe7\\x94\\x98\\xe8\\x8d\\x89', '\\xe7\\x99\\xbd\\xe8\\x8a\\xb1\\xe8\\x9b\\x87\\xe8\\x88\\x8c\\xe8\\x8d\\x89', '\\xe6\\xb5\\xb7\\xe8\\x9e\\xb5\\xe8\\x9b\\xb8', '\\xe9\\xba\\xb8\\xe7\\x82\\x92\\xe7\\x99\\xbd\\xe6\\x9c\\xaf', '\\xe6\\x9e\\xb3\\xe5\\xae\\x9e', '\\xe6\\x9f\\xb4\\xe8\\x83\\xa1', '\\xe6\\x9e\\xb3\\xe5\\xa3\\xb3', '\\xe8\\x8c\\xaf\\xe8\\x8b\\x93', '\\xe4\\xb8\\x89\\xe4\\xb8\\x83', '\\xe6\\xb5\\x99\\xe8\\xb4\\x9d\\xe6\\xaf\\x8d', '\\xe5\\xb9\\xb2\\xe5\\xa7\\x9c', '\\xe9\\x99\\x88\\xe7\\x9a\\xae', '\\xe6\\xb3\\x95\\xe5\\x8d\\x8a\\xe5\\xa4\\x8f', '\\xe5\\xa4\\xa7\\xe8\\x85\\xb9\\xe7\\x9a\\xae', '\\xe6\\xa1\\x82\\xe6\\x9e\\x9d', '\\xe8\\x92\\xb2\\xe5\\x85\\xac\\xe8\\x8b\\xb1', '\\xe7\\xab\\xb9\\xe8\\x8c\\xb9', '\\xe9\\x86\\x8b\\xe5\\xbb\\xb6\\xe8\\x83\\xa1\\xe7\\xb4\\xa2', '\\xe9\\x86\\x8b\\xe9\\xb8\\xa1\\xe5\\x86\\x85\\xe9\\x87\\x91', '\\xe5\\x8c\\x97\\xe6\\xb2\\x99\\xe5\\x8f\\x82', '\\xe7\\x82\\x92\\xe9\\x85\\xb8\\xe6\\x9e\\xa3\\xe4\\xbb\\x81', '\\xe8\\xb5\\xa4\\xe8\\x8a\\x8d', '\\xe5\\x90\\x88\\xe6\\xac\\xa2\\xe7\\x9a\\xae', '\\xe7\\x89\\x87\\xe5\\xa7\\x9c\\xe9\\xbb\\x84', '\\xe5\\x85\\x9a\\xe5\\x8f\\x82', '\\xe5\\xb7\\x9d\\xe6\\xa5\\x9d\\xe5\\xad\\x90'])}\n"
     ]
    }
   ],
   "source": [
    "print patient_dct[patient_dct.keys()[0]]"
   ]
  },
  {
   "cell_type": "markdown",
   "metadata": {
    "collapsed": true
   },
   "source": [
    "# MALLET PLTM"
   ]
  },
  {
   "cell_type": "raw",
   "metadata": {},
   "source": [
    "(py27dev)[tcm]$ cd pltm/\n",
    "(py27dev)[pltm]$ ../mallet-2.0.8/bin/mallet import-file --input en.txt --stoplist-file en.stops --output en.sequences --keep-sequence --token-regex '\\p{L}+'\n",
    "(py27dev)[pltm]$ ../mallet-2.0.8/bin/mallet import-file --input de.txt --stoplist-file de.stops --output de.sequences --keep-sequence --token-regex '\\p{L}+'\n",
    "(py27dev)[pltm]$ ../mallet-2.0.8/bin/mallet import-file --input fr.txt --stoplist-file de.stops --output fr.sequences --keep-sequence --token-regex '\\p{L}+'\n",
    "(py27dev)[pltm]$ ../mallet-2.0.8/bin/mallet run cc.mallet.topics.PolylingualTopicModel \\\n",
    ">   --language-inputs de.sequences en.sequences fr.sequences \\\n",
    ">   --num-topics 8 --alpha 1.0"
   ]
  },
  {
   "cell_type": "markdown",
   "metadata": {},
   "source": [
    "Automatically tune hyperparameter $\\alpha$ for PLTM and smoothing parameters"
   ]
  },
  {
   "cell_type": "raw",
   "metadata": {},
   "source": [
    "../mallet-2.0.8/bin/mallet run cc.mallet.topics.PolylingualTopicModel --language-inputs de.sequences en.sequences fr.sequences --num-topics 8 --alpha 1.0 --optimize-interval 10 --optimize-burn-in 20"
   ]
  },
  {
   "cell_type": "code",
   "execution_count": 34,
   "metadata": {
    "collapsed": true
   },
   "outputs": [],
   "source": [
    "sh_lst = get_symptom_and_herb_counts(patient_dct)"
   ]
  },
  {
   "cell_type": "code",
   "execution_count": 40,
   "metadata": {
    "collapsed": false
   },
   "outputs": [
    {
     "name": "stdout",
     "output_type": "stream",
     "text": [
      "手脚凉\n",
      "便急\n",
      "排气少\n"
     ]
    }
   ],
   "source": [
    "print sh_lst[0]\n",
    "print sh_lst[5]\n",
    "print sh_lst[-1]"
   ]
  },
  {
   "cell_type": "code",
   "execution_count": 54,
   "metadata": {
    "collapsed": false,
    "scrolled": true
   },
   "outputs": [
    {
     "name": "stdout",
     "output_type": "stream",
     "text": [
      "慢性胃炎\n",
      "偶恶心\n",
      "蜜甘草\n",
      "慢性胃炎\n",
      "口干\n",
      "蜜甘草\n",
      "慢性胃炎\n",
      "口干\n",
      "蜜甘草\n",
      "慢性胃炎\n",
      "口干\n",
      "浙贝母\n",
      "慢性胃炎\n",
      "苔白腻\n",
      "浙贝母\n",
      "冠心病\n",
      "便不尽感\n",
      "焦山楂\n",
      "慢性胃炎\n",
      "偶恶心\n",
      "蜜甘草\n",
      "胆囊结石\n",
      "纳眠好\n",
      "法半夏\n",
      "胆囊结石\n",
      "脉细\n",
      "蜜甘草\n",
      "胆囊结石\n",
      "苔薄黄腻\n",
      "丹参\n",
      "慢性胃炎\n",
      "舌淡\n",
      "法半夏\n",
      "慢性胃炎\n",
      "反酸\n",
      "郁金\n",
      "胆囊结石\n",
      "口干\n",
      "蜜甘草\n",
      "胆囊结石\n",
      "口干不明显\n",
      "丹参\n",
      "腹胀\n",
      "疼痛\n",
      "夏枯草\n",
      "腹胀\n",
      "舌淡暗胖\n",
      "生侧柏叶\n",
      "腹胀\n",
      "疼痛\n",
      "夏枯草\n",
      "腹胀\n",
      "腹胀减轻\n",
      "生侧柏叶\n",
      "腹胀\n",
      "边有齿痕\n",
      "生侧柏叶\n",
      "腹胀\n",
      "口干\n",
      "夏枯草\n",
      "腹痛\n",
      "口干\n",
      "黄连\n",
      "乳腺增生\n",
      "舌有裂纹\n",
      "炒薏米\n",
      "脂肪肝\n",
      "偶右胁痛\n",
      "丹参\n",
      "慢性萎缩性胃炎\n",
      "小便黄\n",
      "枸杞子\n",
      "慢性萎缩性胃炎\n",
      "小便黄\n",
      "枸杞子\n",
      "心律失常\n",
      "舌暗红\n",
      "丹参\n",
      "痞满\n",
      "晨起干呕\n",
      "蜜甘草\n",
      "慢性胃炎\n",
      "口干\n",
      "蜜甘草\n",
      "慢性胃炎\n",
      "胃脘畏寒\n",
      "蜜甘草\n",
      "慢性胃炎\n",
      "时有胸闷\n",
      "蜜甘草\n",
      "慢性萎缩性胃炎\n",
      "时有反酸\n",
      "黄连\n",
      "慢性胃炎\n",
      "大便干\n",
      "法半夏\n",
      "功能性消化不良\n",
      "口干咽燥\n",
      "砂仁\n"
     ]
    }
   ],
   "source": [
    "i=0\n",
    "for patient_info in patient_dct.values():\n",
    "    if i>10:\n",
    "        break\n",
    "    for patient_visit_info in patient_info.values():\n",
    "        for sh in patient_visit_info:\n",
    "            print sh[0]\n",
    "    i+=1"
   ]
  },
  {
   "cell_type": "code",
   "execution_count": 83,
   "metadata": {
    "collapsed": false
   },
   "outputs": [],
   "source": [
    "disease_set = set([])\n",
    "date_format = '%Y-%m-%d'\n",
    "f = open('./data/HIS_tuple_word.txt', 'r')\n",
    "herb_corpus = open('herb.txt','w')\n",
    "symptom_corpus = open('symptom.txt','w')\n",
    "for i, line in enumerate(f):\n",
    "#     if i>10:\n",
    "#         break\n",
    "    diseases, name, dob, visit_date, symptoms, herbs = line.split('\\t')\n",
    "    # Always ends with a colon, so the last element of the split will be\n",
    "    # the empty string.\n",
    "    disease_list = diseases.split(':')[:-1]\n",
    "    disease_set = disease_set.union(disease_list)\n",
    "\n",
    "    visit_date = visit_date.split('，')[1][:len('xxxx-xx-xx')]\n",
    "    # Format the diagnosis date.\n",
    "    visit_date = datetime.strptime(visit_date, date_format)\n",
    "\n",
    "    # Format symptom and herb lists and remove duplicates.\n",
    "    symptom_list = list(set(symptoms.split(':')[:-1]))\n",
    "    sdoc = diseases+'\\t'+'SYMPT'+'\\t'\n",
    "\n",
    "    for symptom in symptom_list:\n",
    "        sdoc+=symptom+\" \"\n",
    "    sdoc+=\"\\n\"\n",
    "#     print sdoc\n",
    "    herb_list = list(set(herbs.split(':')[:-1]))\n",
    "    hdoc = diseases+'\\t'+'HERB'+'\\t'\n",
    "    for herb in herb_list:\n",
    "        hdoc+=herb+\" \"\n",
    "    hdoc+=\"\\n\"\n",
    "#     print hdoc\n",
    "    herb_corpus.write(hdoc)\n",
    "    symptom_corpus.write(sdoc)\n",
    "herb_corpus.close()\n",
    "symptom_corpus.close()"
   ]
  },
  {
   "cell_type": "code",
   "execution_count": 67,
   "metadata": {
    "collapsed": false
   },
   "outputs": [
    {
     "name": "stdout",
     "output_type": "stream",
     "text": [
      "法半夏\n",
      "蜜甘草\n",
      "郁金\n",
      "川芎\n",
      "旋覆花\n",
      "厚朴花\n",
      "紫苏叶\n",
      "桂枝\n",
      "煅赭石\n",
      "肉桂\n",
      "干姜\n",
      "茯苓\n",
      "麸炒白术\n",
      "枳实\n",
      "炒白芍\n",
      "制远志\n",
      "柴胡\n",
      "太子参\n",
      "枳壳\n",
      "当归\n",
      "陈皮\n"
     ]
    }
   ],
   "source": [
    "for herb in herb_list:\n",
    "    print herb"
   ]
  },
  {
   "cell_type": "code",
   "execution_count": 68,
   "metadata": {
    "collapsed": false
   },
   "outputs": [
    {
     "name": "stdout",
     "output_type": "stream",
     "text": [
      "苔薄白\n",
      "偶有胃胀\n",
      "入睡困难\n",
      "月经量少\n",
      "咽部不适好转\n",
      "左侧腹部不适\n",
      "嗳气频作\n",
      "反酸\n",
      "时有恶心呕吐\n",
      "睡眠欠佳\n",
      "色淡\n",
      "脉沉细\n"
     ]
    }
   ],
   "source": [
    "for symptom in symptom_list:\n",
    "    print symptom"
   ]
  },
  {
   "cell_type": "code",
   "execution_count": 61,
   "metadata": {
    "collapsed": false
   },
   "outputs": [
    {
     "name": "stdout",
     "output_type": "stream",
     "text": [
      "消化性溃疡\n",
      "感冒\n",
      "（行动不便）\n",
      "肠易激综合征\n",
      "泌尿系感染\n",
      "结肠炎\n",
      "口腔溃疡\n",
      "心律失常\n",
      "结膜炎\n",
      "高尿酸血症\n",
      "失眠症\n",
      "慢性萎缩性胃炎伴肠化\n",
      "胆囊息肉\n",
      "面部痤疮\n",
      "胃炎\n",
      "口臭\n",
      "胆结石\n",
      "口干\n",
      "慢性胃炎\n",
      "脂肪肝\n",
      "胆囊结石\n",
      "肠道菌群失调\n",
      "慢性咽炎\n",
      "关节疼痛\n",
      "腹泻\n",
      "泌尿道感染\n",
      "冠心病\n",
      "口腔异味\n",
      "Hp＋\n",
      "胃息肉\n",
      "胆囊炎\n",
      "功能性消化不良\n",
      "脾虚泄泻\n",
      "痔疮\n",
      "糖尿病\n",
      "胃胀\n",
      "腹痛待查\n",
      "颈椎病\n",
      "2型糖尿病\n",
      "痞满\n",
      "胃肠功能紊乱\n",
      "食管裂孔疝\n",
      "十二指肠球炎\n",
      "HP＋\n",
      "胆汁反流性胃炎\n",
      "慢性浅表性胃炎\n",
      "反流性食道炎\n",
      "失眠\n",
      "肾囊肿\n",
      "心悸\n",
      "结肠息肉\n",
      "胃溃疡\n",
      "肠粘连\n",
      "湿疹\n",
      "乳腺增生\n",
      "甲状腺结节\n",
      "浅表性胃炎\n",
      "高血压病\n",
      "腹胀待查\n",
      "高血压\n",
      "反流性食管炎\n",
      "萎缩性胃炎\n",
      "HP+\n",
      "肝硬化\n",
      "咽炎\n",
      "慢性腹泻\n",
      "腹胀\n",
      "肝功能异常\n",
      "睡眠障碍\n",
      "慢性胃炎伴肠化\n",
      "支气管炎\n",
      "泄泻\n",
      "十二指肠球部溃疡\n",
      "慢性胃炎伴糜烂\n",
      "幽门螺旋杆菌感染\n",
      "胁痛\n",
      "前列腺增生\n",
      "腹痛\n",
      "慢性结肠炎\n",
      "骨质疏松\n",
      "胃痛\n",
      "食道炎\n",
      "口苦\n",
      "胃下垂\n",
      "消化不良\n",
      "高脂血症\n",
      "幽门螺杆菌相关性胃炎\n",
      "便秘\n",
      "肝囊肿\n",
      "胃肠功能失调\n",
      "不完全性肠梗阻\n",
      "食管炎\n",
      "气虚感冒\n",
      "脑梗\n",
      "慢性萎缩性胃炎\n",
      "上呼吸道感染\n"
     ]
    }
   ],
   "source": [
    "for i in disease_set:\n",
    "    print i"
   ]
  },
  {
   "cell_type": "code",
   "execution_count": 62,
   "metadata": {
    "collapsed": false
   },
   "outputs": [
    {
     "data": {
      "text/plain": [
       "96"
      ]
     },
     "execution_count": 62,
     "metadata": {},
     "output_type": "execute_result"
    }
   ],
   "source": [
    "len(disease_set)"
   ]
  },
  {
   "cell_type": "markdown",
   "metadata": {},
   "source": [
    "MALLET currently does not support Chinese or Japanese word segmentation."
   ]
  },
  {
   "cell_type": "markdown",
   "metadata": {},
   "source": [
    "### Running MALLET on this data"
   ]
  },
  {
   "cell_type": "raw",
   "metadata": {
    "collapsed": true
   },
   "source": [
    "../mallet-2.0.8/bin/mallet import-file --input herb.txt  --output herb.sequences --keep-sequence --token-regex '\\p{L}+'\n",
    "\n",
    "../mallet-2.0.8/bin/mallet import-file --input symptom.txt  --output sympt.sequences --keep-sequence --token-regex '\\p{L}+'\n",
    "\n",
    "../mallet-2.0.8/bin/mallet run cc.mallet.topics.PolylingualTopicModel --language-inputs herb.sequences  sympt.sequences  --num-topics 96 --alpha 1.0"
   ]
  },
  {
   "cell_type": "raw",
   "metadata": {},
   "source": [
    "../mallet-2.0.8/bin/mallet run cc.mallet.topics.PolylingualTopicModel --language-inputs herb.sequences  sympt.sequences  --num-topics 96 --alpha 1.0 >initial_result.log"
   ]
  },
  {
   "cell_type": "code",
   "execution_count": 17,
   "metadata": {
    "collapsed": true
   },
   "outputs": [],
   "source": [
    "from datetime import datetime\n",
    "import os"
   ]
  },
  {
   "cell_type": "code",
   "execution_count": 41,
   "metadata": {
    "collapsed": false
   },
   "outputs": [
    {
     "name": "stdout",
     "output_type": "stream",
     "text": [
      "/Users/dorislee/Desktop/Fall2016/Research/tcm/tcm-biLDA\n"
     ]
    }
   ],
   "source": [
    "cd ../"
   ]
  },
  {
   "cell_type": "code",
   "execution_count": 55,
   "metadata": {
    "collapsed": false
   },
   "outputs": [],
   "source": [
    "def make_mallet_herb_symptom_files(fold_num):\n",
    "    disease_set = set([])\n",
    "    date_format = '%Y-%m-%d'\n",
    "    f = open('./data/train_test/train_no_expansion_%s.txt'%fold_num, 'r')\n",
    "    os.chdir('data/sequence/')\n",
    "    herb_corpus = open('herb%s.txt'%fold_num,'w')\n",
    "    symptom_corpus = open('symptom%s.txt'%fold_num,'w')\n",
    "    for i, line in enumerate(f):\n",
    "    #     if i>10:\n",
    "    #         break\n",
    "        diseases, name, dob, visit_date, symptoms, herbs = line.split('\\t')\n",
    "        # Always ends with a colon, so the last element of the split will be\n",
    "        # the empty string.\n",
    "        disease_list = diseases.split(':')[:-1]\n",
    "        disease_set = disease_set.union(disease_list)\n",
    "\n",
    "        visit_date = visit_date.split('，')[1][:len('xxxx-xx-xx')]\n",
    "        # Format the diagnosis date.\n",
    "        visit_date = datetime.strptime(visit_date, date_format)\n",
    "\n",
    "        # Format symptom and herb lists and remove duplicates.\n",
    "        symptom_list = list(set(symptoms.split(':')[:-1]))\n",
    "        sdoc = diseases+'\\t'+'SYMPT'+'\\t'\n",
    "\n",
    "        for symptom in symptom_list:\n",
    "            sdoc+=symptom+\" \"\n",
    "        sdoc+=\"\\n\"\n",
    "    #     print sdoc\n",
    "        herb_list = list(set(herbs.split(':')[:-1]))\n",
    "        hdoc = diseases+'\\t'+'HERB'+'\\t'\n",
    "        for herb in herb_list:\n",
    "            hdoc+=herb+\" \"\n",
    "        hdoc+=\"\\n\"\n",
    "    #     print hdoc\n",
    "        herb_corpus.write(hdoc)\n",
    "        symptom_corpus.write(sdoc)\n",
    "    herb_corpus.close()\n",
    "    symptom_corpus.close()\n",
    "    # Convert formatted text file to MALLET sequence files \n",
    "    os.system(\"../../../mallet-2.0.8/bin/mallet import-file --input herb{0}.txt  --output herb{0}.sequences \".format(fold_num)+ \"--keep-sequence --token-regex '\\p{L}+'\")\n",
    "    os.system(\"../../../mallet-2.0.8/bin/mallet import-file --input symptom{0}.txt  --output symptom{0}.sequences \".format(fold_num)+ \"--keep-sequence --token-regex '\\p{L}+'\")\n",
    "    os.chdir(\"../../\")"
   ]
  },
  {
   "cell_type": "code",
   "execution_count": 58,
   "metadata": {
    "collapsed": false
   },
   "outputs": [
    {
     "name": "stdout",
     "output_type": "stream",
     "text": [
      "/Users/dorislee/Desktop/Fall2016/Research/tcm/tcm-biLDA\n"
     ]
    }
   ],
   "source": [
    "cd ../../"
   ]
  },
  {
   "cell_type": "code",
   "execution_count": 59,
   "metadata": {
    "collapsed": false
   },
   "outputs": [],
   "source": [
    "for fold_num in range(10):\n",
    "    make_mallet_herb_symptom_files(fold_num)"
   ]
  },
  {
   "cell_type": "code",
   "execution_count": null,
   "metadata": {
    "collapsed": true
   },
   "outputs": [],
   "source": [
    "# Create herb and symptoms file "
   ]
  },
  {
   "cell_type": "code",
   "execution_count": 46,
   "metadata": {
    "collapsed": false
   },
   "outputs": [
    {
     "name": "stdout",
     "output_type": "stream",
     "text": [
      "../../../mallet-2.0.8/bin/mallet run cc.mallet.topics.PolylingualTopicModel     --output-topic-keys pltm_output_topics9.txt --num-top-words 50    --language-inputs herb9.sequences  symptom9.sequences  --num-topics 96 --optimize-interval 10 \n"
     ]
    }
   ],
   "source": [
    "print \"../../../mallet-2.0.8/bin/mallet run cc.mallet.topics.PolylingualTopicModel \\\n",
    "    --output-topic-keys pltm_output_topics{0}.txt --num-top-words 50\\\n",
    "    --language-inputs herb{0}.sequences  symptom{0}.sequences  --num-topics 96 --optimize-interval 10 \".format(fold_num)"
   ]
  },
  {
   "cell_type": "code",
   "execution_count": 53,
   "metadata": {
    "collapsed": false
   },
   "outputs": [
    {
     "name": "stdout",
     "output_type": "stream",
     "text": [
      "/Users/dorislee/Desktop/Fall2016/Research/tcm/tcm-biLDA\n"
     ]
    }
   ],
   "source": [
    "cd ../../"
   ]
  },
  {
   "cell_type": "code",
   "execution_count": 60,
   "metadata": {
    "collapsed": false
   },
   "outputs": [
    {
     "name": "stdout",
     "output_type": "stream",
     "text": [
      "Working on 0 \n",
      "Working on 1 \n",
      "Working on 2 \n",
      "Working on 3 \n",
      "Working on 4 \n",
      "Working on 5 \n",
      "Working on 6 \n",
      "Working on 7 \n",
      "Working on 8 \n",
      "Working on 9 \n"
     ]
    }
   ],
   "source": [
    "import os \n",
    "import glob\n",
    "os.chdir(\"data/sequence/\")\n",
    "for fold_num in range(10):\n",
    "    print \"Working on %s \"%fold_num\n",
    "    os.system(\"../../../mallet-2.0.8/bin/mallet run cc.mallet.topics.PolylingualTopicModel \\\n",
    "    --output-topic-keys pltm_output_topics{0}.txt --num-top-words 200\\\n",
    "    --language-inputs herb{0}.sequences  symptom{0}.sequences  --num-topics 96 --optimize-interval 10\".format(fold_num))"
   ]
  },
  {
   "cell_type": "code",
   "execution_count": null,
   "metadata": {
    "collapsed": true
   },
   "outputs": [],
   "source": []
  },
  {
   "cell_type": "code",
   "execution_count": null,
   "metadata": {
    "collapsed": true
   },
   "outputs": [],
   "source": []
  },
  {
   "cell_type": "code",
   "execution_count": null,
   "metadata": {
    "collapsed": true
   },
   "outputs": [],
   "source": []
  }
 ],
 "metadata": {
  "kernelspec": {
   "display_name": "Python 2",
   "language": "python",
   "name": "python2"
  },
  "language_info": {
   "codemirror_mode": {
    "name": "ipython",
    "version": 2
   },
   "file_extension": ".py",
   "mimetype": "text/x-python",
   "name": "python",
   "nbconvert_exporter": "python",
   "pygments_lexer": "ipython2",
   "version": "2.7.10"
  }
 },
 "nbformat": 4,
 "nbformat_minor": 0
}
